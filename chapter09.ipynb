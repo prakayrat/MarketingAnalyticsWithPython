{
 "cells": [
  {
   "cell_type": "markdown",
   "metadata": {},
   "source": [
    "# หนังสือ Data Science วิเคราะห์การตลาด ด้วย Python\n",
    "---\n",
    "### บทที่ 9 จำแนกประเภทด้วยแมชชีนเลิร์นนิ่งที่ทรงพลัง และสรุปประสิทธิภาพของโมเดล"
   ]
  },
  {
   "cell_type": "markdown",
   "metadata": {},
   "source": [
    "#### ตัวอย่างที่ 9.1 "
   ]
  },
  {
   "cell_type": "code",
   "execution_count": 12,
   "metadata": {
    "colab": {
     "base_uri": "https://localhost:8080/",
     "height": 194
    },
    "id": "23Kkcf0CJkLN",
    "outputId": "82f0d240-bac9-4661-f6e8-48a731d9d59a",
    "tags": []
   },
   "outputs": [
    {
     "data": {
      "text/plain": [
       "0.9775387535590003"
      ]
     },
     "execution_count": 12,
     "metadata": {},
     "output_type": "execute_result"
    }
   ],
   "source": [
    "# ตัวอย่าง 9.1 SVM\n",
    "import pandas as pd\n",
    "from sklearn.model_selection import train_test_split\n",
    "from sklearn import svm\n",
    "from sklearn.model_selection import cross_val_score\n",
    "import numpy as np\n",
    "data=pd.read_csv(\"data/Shill_Bidding_Dataset.csv\")\n",
    "\n",
    "# Drop irrelevant columns\n",
    "data.drop([\"Record_ID\",\"Auction_ID\",\"Bidder_ID\"],\n",
    "          axis=1, inplace=True) \n",
    "data.head()\n",
    "data.dtypes\n",
    "data.isnull().sum()   ### Check for missing values\n",
    "\n",
    "# กำหนด X, y\n",
    "target = 'Class'\n",
    "X = data.drop(target,axis=1)\n",
    "y = data[target]\n",
    "X_train, X_test, y_train, y_test = train_test_split\\\n",
    "(X.values,y,test_size=0.50, random_state=123, stratify=y) \n",
    "\n",
    "# model\n",
    "clf_svm=svm.SVC(kernel='linear', C=1)\n",
    "clf_svm\n",
    "\n",
    "clf_svm.fit(X_train,y_train)\n",
    "clf_svm.score(X_test, y_test)"
   ]
  },
  {
   "cell_type": "markdown",
   "metadata": {},
   "source": [
    "#### ตัวอย่างที่ 9.2"
   ]
  },
  {
   "cell_type": "code",
   "execution_count": 2,
   "metadata": {
    "tags": []
   },
   "outputs": [
    {
     "data": {
      "text/plain": [
       "0.9962037329958874"
      ]
     },
     "execution_count": 2,
     "metadata": {},
     "output_type": "execute_result"
    }
   ],
   "source": [
    "# ตัวอย่าง 9.2 Decision trees\n",
    "import graphviz\n",
    "from sklearn import tree\n",
    "from six import StringIO  \n",
    "from IPython.display import Image  \n",
    "from sklearn.tree import export_graphviz\n",
    "import pydotplus\n",
    "\n",
    "clf_tree = tree.DecisionTreeClassifier()\n",
    "clf_tree = clf_tree.fit(X_train, y_train)\n",
    "\n",
    "dot_data = StringIO() \n",
    "export_graphviz(clf_tree, out_file=dot_data,\n",
    "                filled=True, rounded=True,\n",
    "                class_names=['Normal','Abnormal'],\n",
    "                max_depth = 3, special_characters=True,\n",
    "                feature_names=X.columns.values) \n",
    "graph = pydotplus.graph_from_dot_data(dot_data.getvalue())  \n",
    "Image(graph.create_png()) \n",
    "\n",
    "clf_tree.score(X_test, y_test)"
   ]
  },
  {
   "cell_type": "markdown",
   "metadata": {},
   "source": [
    "#### ตัวอย่างที่ 9.3"
   ]
  },
  {
   "cell_type": "code",
   "execution_count": 3,
   "metadata": {
    "tags": []
   },
   "outputs": [
    {
     "data": {
      "text/plain": [
       "0.9895602657386903"
      ]
     },
     "execution_count": 3,
     "metadata": {},
     "output_type": "execute_result"
    }
   ],
   "source": [
    "# ตัวอย่าง 9.3 Random Forest\n",
    "from sklearn.ensemble import RandomForestClassifier\n",
    "\n",
    "clf = RandomForestClassifier(n_estimators=20, max_depth=None,\n",
    "                             min_samples_split=7, random_state=0) \n",
    "clf.fit(X_train,y_train) \n",
    "clf.score(X_test, y_test)"
   ]
  },
  {
   "cell_type": "markdown",
   "metadata": {},
   "source": [
    "#### กิจกรรมที่ 9.1"
   ]
  },
  {
   "cell_type": "code",
   "execution_count": 17,
   "metadata": {},
   "outputs": [
    {
     "data": {
      "text/plain": [
       "0.8104667609618105"
      ]
     },
     "execution_count": 17,
     "metadata": {},
     "output_type": "execute_result"
    }
   ],
   "source": [
    "# กิจกรรม 9.1 classifiers\n",
    "## ทำต่อจาก กิจกรรม 8.2\n",
    "\n",
    "    ## Logistic Regression\n",
    "from sklearn.linear_model import LogisticRegression\n",
    "clf_logistic = LogisticRegression(random_state=0,solver='lbfgs')\\\n",
    "               .fit(X_train[top7_features], y_train) \n",
    "clf_logistic\n",
    "\n",
    "clf_logistic.score(X_test[top7_features], y_test)\n",
    "\n",
    "    ## SVM\n",
    "from sklearn import svm\n",
    "from sklearn.preprocessing import MinMaxScaler\n",
    "scaling = MinMaxScaler(feature_range=(-1,1))\\\n",
    "          .fit(X_train[top7_features])\n",
    "X_train_svm = scaling.transform(X_train[top7_features])\n",
    "X_test_svm = scaling.transform(X_test[top7_features])\n",
    "\n",
    "clf_svm=svm.SVC(kernel='linear', C=1)\n",
    "clf_svm.fit(X_train_svm,y_train)\n",
    "\n",
    "clf_svm.score(X_test_svm, y_test)\n",
    "\n",
    "    ## Decision Tree\n",
    "from sklearn import tree\n",
    "clf_decision = tree.DecisionTreeClassifier()\n",
    "clf_decision.fit(X_train[top7_features],y_train)\n",
    "\n",
    "clf_decision.score(X_test[top7_features], y_test)\n",
    "\n",
    "    ## Random Forest\n",
    "from sklearn.ensemble import RandomForestClassifier\n",
    "clf_random = RandomForestClassifier(n_estimators=20,\n",
    "                                    max_depth=None,\n",
    "                                    min_samples_split=7,\n",
    "                                    random_state=0) \n",
    "clf_random.fit(X_train[top7_features], y_train)\n",
    "\n",
    "clf_random.score(X_test[top7_features], y_test)"
   ]
  },
  {
   "cell_type": "markdown",
   "metadata": {},
   "source": [
    "---"
   ]
  },
  {
   "cell_type": "code",
   "execution_count": 1,
   "metadata": {
    "tags": []
   },
   "outputs": [],
   "source": [
    "    ## จากตัวอย่าง 8.8\n",
    "import pandas as pd\n",
    "df = pd.read_csv('data/Churn_Modelling_edit.csv')\n",
    "top5_features=['Age','EstimatedSalary','CreditScore','Balance','NumOfProducts']\n",
    "from sklearn.model_selection import train_test_split\n",
    "\n",
    "# Split training set and test set\n",
    "target = 'Churn'\n",
    "X = df.drop('Churn', axis=1)\n",
    "y = df[target]\n",
    "X_train,X_test,y_train,y_test=train_test_split(X,y,test_size=0.15,\n",
    "                                               random_state=1,\n",
    "                                               stratify=y)"
   ]
  },
  {
   "cell_type": "markdown",
   "metadata": {
    "tags": []
   },
   "source": [
    "---"
   ]
  },
  {
   "cell_type": "markdown",
   "metadata": {},
   "source": [
    "#### ตัวอย่างที่ 9.4"
   ]
  },
  {
   "cell_type": "code",
   "execution_count": 2,
   "metadata": {},
   "outputs": [
    {
     "data": {
      "text/plain": [
       "array([[ 0.09979719,  1.64675151, -1.36369587, -1.21688154,  0.80714527],\n",
       "       [ 1.33151729,  0.11269094, -0.16521636,  0.60119718,  0.80714527],\n",
       "       [-0.0896982 , -0.42266564,  0.35136964, -1.21688154,  2.52533579],\n",
       "       ...,\n",
       "       [-0.9424275 ,  0.19875152, -0.69213407, -1.21688154,  0.80714527],\n",
       "       [-0.2791936 , -1.40344161,  0.0207546 , -1.21688154,  0.80714527],\n",
       "       [-0.6581844 , -0.07654286,  0.24805244,  0.15341739, -0.91104526]])"
      ]
     },
     "execution_count": 2,
     "metadata": {},
     "output_type": "execute_result"
    }
   ],
   "source": [
    "# ตัวอย่าง 9.4 Performing standardization\n",
    "## ทำต่อจาก ตัวอย่าง 8.8\n",
    "\n",
    "from sklearn import preprocessing\n",
    "X_train[top5_features].head()\n",
    "\n",
    "scaler = preprocessing.StandardScaler().fit(X_train[top5_features])\n",
    "scaler.mean_\n",
    "scaler.scale_ \n",
    "\n",
    "X_train_scalar=scaler.transform(X_train[top5_features])\n",
    "X_train_scalar\n",
    "\n",
    "X_test_scalar=scaler.transform(X_test[top5_features])\n",
    "X_test_scalar"
   ]
  },
  {
   "cell_type": "markdown",
   "metadata": {
    "tags": []
   },
   "source": [
    "#### ตัวอย่างที่ 9.5"
   ]
  },
  {
   "cell_type": "code",
   "execution_count": 3,
   "metadata": {},
   "outputs": [
    {
     "data": {
      "text/plain": [
       "array([[0.2972973 , 0.97211784, 0.336     , 0.        , 0.33333333],\n",
       "       [0.47297297, 0.53171813, 0.568     , 0.45349688, 0.33333333],\n",
       "       [0.27027027, 0.3780274 , 0.668     , 0.        , 0.66666667],\n",
       "       ...,\n",
       "       [0.14864865, 0.55642449, 0.466     , 0.        , 0.33333333],\n",
       "       [0.24324324, 0.09646521, 0.604     , 0.        , 0.33333333],\n",
       "       [0.18918919, 0.47739269, 0.648     , 0.34180384, 0.        ]])"
      ]
     },
     "execution_count": 3,
     "metadata": {},
     "output_type": "execute_result"
    }
   ],
   "source": [
    "# ตัวอย่าง 9.5 Performing Scaling\n",
    "## ทำต่อจาก ตัวอย่าง 8.8\n",
    "\n",
    "from sklearn import preprocessing\n",
    "min_max = preprocessing.MinMaxScaler().fit(X_train[top5_features])\n",
    "min_max.min_\n",
    "\n",
    "min_max.scale_    \n",
    "\n",
    "X_train_min_max = min_max.transform(X_train[top5_features])\n",
    "X_train_min_max\n",
    "\n",
    "X_test_min_max = min_max.transform(X_test[top5_features])\n",
    "X_test_min_max"
   ]
  },
  {
   "cell_type": "markdown",
   "metadata": {},
   "source": [
    "#### ตัวอย่างที่ 9.6"
   ]
  },
  {
   "cell_type": "code",
   "execution_count": 14,
   "metadata": {
    "tags": []
   },
   "outputs": [
    {
     "data": {
      "text/plain": [
       "array([1., 1., 1., ..., 1., 1., 1.])"
      ]
     },
     "execution_count": 14,
     "metadata": {},
     "output_type": "execute_result"
    }
   ],
   "source": [
    "np.sqrt(np.sum(X_train_normalize**2, axis=1))"
   ]
  },
  {
   "cell_type": "code",
   "execution_count": 15,
   "metadata": {
    "tags": []
   },
   "outputs": [
    {
     "data": {
      "text/plain": [
       "array([1., 1., 1., ..., 1., 1., 1.])"
      ]
     },
     "execution_count": 15,
     "metadata": {},
     "output_type": "execute_result"
    }
   ],
   "source": [
    "np.sqrt(np.sum(X_test_normalize**2, axis=1))"
   ]
  },
  {
   "cell_type": "code",
   "execution_count": 10,
   "metadata": {},
   "outputs": [
    {
     "data": {
      "text/plain": [
       "array([1., 1., 1., ..., 1., 1., 1.])"
      ]
     },
     "execution_count": 10,
     "metadata": {},
     "output_type": "execute_result"
    }
   ],
   "source": [
    "# ตัวอย่าง 9.6 Performing Normalization\n",
    "## ทำต่อจาก ตัวอย่าง 8.8\n",
    "\n",
    "normalize = preprocessing.Normalizer().fit(X_train[top5_features])\n",
    "normalize\n",
    "\n",
    "X_train_normalize = normalize.transform(X_train[top5_features])\n",
    "X_train_normalize\n",
    "\n",
    "X_test_normalize = normalize.transform(X_test[top5_features]) \n",
    "X_test_normalize\n",
    "\n",
    "import numpy as np\n",
    "np.sqrt(np.sum(X_train_normalize**2, axis=1))\n",
    "\n",
    "np.sqrt(np.sum(X_test_normalize**2, axis=1))"
   ]
  },
  {
   "cell_type": "markdown",
   "metadata": {},
   "source": [
    "---"
   ]
  },
  {
   "cell_type": "code",
   "execution_count": 3,
   "metadata": {},
   "outputs": [],
   "source": [
    "    ## จากตัวอย่างในบทที่ 8\n",
    "import pandas as pd\n",
    "import numpy as np\n",
    "df = pd.read_csv('data/Churn_Modelling_edit.csv')\n",
    "top5_features=['Age','EstimatedSalary','CreditScore','Balance','NumOfProducts']\n",
    "\n",
    "from sklearn.model_selection import train_test_split\n",
    "target = 'Churn'\n",
    "X = df.drop('Churn', axis=1)\n",
    "y = df[target]\n",
    "X_train,X_test,y_train,y_test=train_test_split(X,y,test_size=0.15,\n",
    "                                               random_state=1,\n",
    "                                               stratify=y)\n",
    "\n",
    "from sklearn.linear_model import LogisticRegression\n",
    "clf=LogisticRegression(random_state=0,solver='lbfgs')\\\n",
    "            .fit(X_train[top5_features],y_train)\n",
    "clf = LogisticRegression(random_state=0, solver='lbfgs')\\\n",
    ".fit(X_train[top5_features], y_train) "
   ]
  },
  {
   "cell_type": "markdown",
   "metadata": {},
   "source": [
    "---"
   ]
  },
  {
   "cell_type": "markdown",
   "metadata": {
    "tags": []
   },
   "source": [
    "#### ตัวอย่างที่ 9.7"
   ]
  },
  {
   "cell_type": "code",
   "execution_count": 4,
   "metadata": {},
   "outputs": [
    {
     "name": "stdout",
     "output_type": "stream",
     "text": [
      "k-fold:  0, Class Ratio: [6092 1558], Accuracy: 0.7847\n",
      "k-fold:  1, Class Ratio: [6092 1558], Accuracy: 0.7871\n",
      "k-fold:  2, Class Ratio: [6092 1558], Accuracy: 0.7941\n",
      "k-fold:  3, Class Ratio: [6092 1558], Accuracy: 0.7941\n",
      "k-fold:  4, Class Ratio: [6092 1558], Accuracy: 0.7871\n",
      "k-fold:  5, Class Ratio: [6092 1558], Accuracy: 0.7871\n",
      "k-fold:  6, Class Ratio: [6092 1558], Accuracy: 0.7894\n",
      "k-fold:  7, Class Ratio: [6092 1558], Accuracy: 0.7929\n",
      "k-fold:  8, Class Ratio: [6092 1558], Accuracy: 0.7929\n",
      "k-fold:  9, Class Ratio: [6093 1557], Accuracy: 0.7847\n",
      "accuracy for CV is : results =  0.789 \n",
      "accuracy for CV is : results_cross_val_score = 0.789\n"
     ]
    }
   ],
   "source": [
    "# ตัวอย่าง 9.7\n",
    "## ทำต่อจากตัวอย่างในบทที่ 8\n",
    "## Model Evaluation\n",
    "from sklearn.model_selection import StratifiedKFold\n",
    "skf = StratifiedKFold(n_splits=10)\\\n",
    "    .split(X_train[top5_features].values,y_train.values) \n",
    "\n",
    "results=[]\n",
    "for i, (train,test) in enumerate(skf):\n",
    "    clf.fit(X_train[top5_features].values[train],y_train.values[train])\n",
    "    fit_result=clf.score(X_train[top5_features].values[test],\n",
    "                         y_train.values[test])\n",
    "    results.append(fit_result)\n",
    "    print('k-fold: %2d, Class Ratio: %s, Accuracy: %.4f'\\\n",
    "          % (i,np.bincount(y_train.values[train]),fit_result))\n",
    "\n",
    "print('accuracy for CV is : results =  %.3f ' % np.mean(results))\n",
    "\n",
    "## Using Scikit Learn cross_val_score\n",
    "from sklearn.model_selection import cross_val_score\n",
    "results_cross_val_score=cross_val_score(estimator=clf,\n",
    "                         X=X_train[top5_features].values,\n",
    "                         y=y_train.values,cv=10,n_jobs=1) \n",
    "print('accuracy for CV is : results_cross_val_score = %.3f'\\\n",
    "      % np.mean(results_cross_val_score)) "
   ]
  },
  {
   "cell_type": "markdown",
   "metadata": {},
   "source": [
    "#### ตัวอย่างที่ 9.8"
   ]
  },
  {
   "cell_type": "code",
   "execution_count": null,
   "metadata": {},
   "outputs": [
    {
     "name": "stdout",
     "output_type": "stream",
     "text": [
      "Fitting 3 folds for each of 4 candidates, totalling 12 fits\n"
     ]
    }
   ],
   "source": [
    "# ตัวอย่าง 9.8 Fine Tuning of Model Using Grid Search\n",
    "## ทำต่อจากตัวอย่าง 9.7\n",
    "\n",
    "from sklearn import svm\n",
    "from sklearn.model_selection import GridSearchCV\n",
    "from sklearn.model_selection import StratifiedKFold\n",
    "\n",
    "parameters = [ {'kernel': ['linear'], 'C':[0.1, 1]},\n",
    "              {'kernel': ['rbf'], 'C':[0.1, 1]}]\n",
    "\n",
    "clf = GridSearchCV(svm.SVC(), parameters,\n",
    "                   cv = StratifiedKFold(n_splits = 3),\n",
    "                   verbose=4,n_jobs=-1)\n",
    "clf.fit(X_train[top5_features], y_train)\n",
    "\n",
    "print('best score train:', clf.best_score_)\n",
    "print('best parameters train: ', clf.best_params_)"
   ]
  },
  {
   "cell_type": "code",
   "execution_count": null,
   "metadata": {
    "tags": []
   },
   "outputs": [],
   "source": [
    "parameters = [ {'min_samples_split': [9,10], \n",
    "                'n_estimators':[100,150,160]\n",
    "                'max_depth': [5,7]}]\n"
   ]
  },
  {
   "cell_type": "markdown",
   "metadata": {},
   "source": [
    "#### กิจกรรมที่ 9.2"
   ]
  },
  {
   "cell_type": "code",
   "execution_count": null,
   "metadata": {},
   "outputs": [],
   "source": [
    "# จากกิจกรรม 9.1\n",
    "# Removes Warnings\n",
    "import warnings\n",
    "warnings.filterwarnings('ignore')\n",
    "#import the necessary packages\n",
    "import pandas as pd\n",
    "import numpy as np\n",
    "import matplotlib.pyplot as plt\n",
    "import seaborn as sns\n",
    "data= pd.read_csv(r'Telco_Churn_Data.csv')\n",
    "\n",
    "# renaming the columns\n",
    "data.columns=data.columns.str.replace(' ','_')\n",
    "data['Avg_Hours_WorkOrderOpened'] = data['Avg_Hours_WorkOrderOpenned']\n",
    "data.drop([\"Avg_Hours_WorkOrderOpenned\"],axis=1,inplace=True)\n",
    "\n",
    "# data type\n",
    "data['Target_Code']=data.Target_Code.astype('object') \n",
    "data['Condition_of_Current_Handset']=data.Condition_of_Current_Handset.astype('object') \n",
    "data['Current_TechSupComplaints']=data.Current_TechSupComplaints.astype('object') \n",
    "data['Target_Code']=data.Target_Code.astype('int64') \n",
    "\n",
    "# impute missing values\n",
    "data['Complaint_Code']=data['Complaint_Code'].fillna(value='Billing Problem') \n",
    "data['Condition_of_Current_Handset']=data['Condition_of_Current_Handset'].fillna(value=1) \n",
    "\n",
    "# split data\n",
    "from sklearn.ensemble import RandomForestClassifier\n",
    "from sklearn.model_selection import train_test_split\n",
    "\n",
    "data[\"Acct_Plan_Subtype\"] = data[\"Acct_Plan_Subtype\"].astype('category').cat.codes \n",
    "data[\"Complaint_Code\"] = data[\"Complaint_Code\"].astype('category').cat.codes \n",
    "\n",
    "target = 'Target_Code' \n",
    "X = data.drop(['Target_Code','Target_Churn'], axis=1) \n",
    "y = data[target] \n",
    "X_train, X_test, y_train, y_test = train_test_split\\\n",
    "(X, y, test_size=0.15, random_state=123, stratify=y)\n",
    "\n",
    "# กิจกรรม 9.2\n",
    "# preprocessing: Standardization\n",
    "from sklearn import preprocessing\n",
    "top5_features=['Avg_Calls_Weekdays', 'Current_Bill_Amt',\n",
    "               'Avg_Calls', 'Account_Age','Avg_Days_Delinquent']\n",
    "top2_features=['Percent_Increase_MOM','Complaint_Code']\n",
    "\n",
    "scaler = preprocessing.StandardScaler().fit(X_train[top5_features]) \n",
    "X_train_scalar=pd.DataFrame(scaler.transform(X_train[top5_features]),\n",
    "                            columns = X_train[top5_features].columns) \n",
    "X_test_scalar=pd.DataFrame(scaler.transform(X_test[top5_features]),\n",
    "                           columns = X_test[top5_features].columns) \n",
    "\n",
    "X_train_scalar_combined=pd.concat([X_train_scalar,\n",
    "                                   X_train[top2_features]\\\n",
    "                                   .reset_index(drop=True)], \n",
    "                                  axis=1, sort=False) \n",
    "X_test_scalar_combined=pd.concat([X_test_scalar, \n",
    "                                  X_test[top2_features]\\\n",
    "                                  .reset_index(drop=True)],\n",
    "                                 axis=1, sort=False) \n",
    "\n",
    "# random forest\n",
    "from sklearn.ensemble import RandomForestClassifier\n",
    "clf_random = RandomForestClassifier(n_estimators=20,max_depth=None,\n",
    "                                    min_samples_split=7,\n",
    "                                    random_state=0) \n",
    "clf_random.fit(X_train_scalar_combined, y_train)\n",
    "\n",
    "\n",
    "clf_random.score(X_test_scalar_combined, y_test)\n",
    "\n",
    "# Grid Search\n",
    "from sklearn.model_selection import GridSearchCV\n",
    "from sklearn.model_selection import StratifiedKFold\n",
    "parameters = [ {'min_samples_split': [9,10],\n",
    "                'n_estimators':[100,150,160],\n",
    "                'max_depth': [5,7]}] \n",
    "\n",
    "clf_random_grid = GridSearchCV(RandomForestClassifier(),\n",
    "                               parameters,\n",
    "                               cv=StratifiedKFold(n_splits=3)) \n",
    "clf_random_grid.fit(X_train_scalar_combined, y_train)\n",
    "\n",
    "print('best score train:', clf_random_grid.best_score_)\n",
    "print('best parameters train: ', clf_random_grid.best_params_)\n",
    "\n",
    "clf_random_grid.score(X_test_scalar_combined, y_test)"
   ]
  },
  {
   "cell_type": "markdown",
   "metadata": {},
   "source": [
    "#### ตัวอย่างที่ 9.9"
   ]
  },
  {
   "cell_type": "code",
   "execution_count": 3,
   "metadata": {},
   "outputs": [
    {
     "name": "stdout",
     "output_type": "stream",
     "text": [
      "              precision    recall  f1-score   support\n",
      "\n",
      "    No Churn       0.86      0.94      0.90      1194\n",
      "       Churn       0.65      0.40      0.49       306\n",
      "\n",
      "    accuracy                           0.83      1500\n",
      "   macro avg       0.75      0.67      0.70      1500\n",
      "weighted avg       0.82      0.83      0.82      1500\n",
      "\n"
     ]
    },
    {
     "data": {
      "image/png": "[encoded data removed]",
      "text/plain": [
       "<Figure size 800x600 with 2 Axes>"
      ]
     },
     "metadata": {},
     "output_type": "display_data"
    }
   ],
   "source": [
    "# ตัวอย่าง 9.9 Performance Metrics\n",
    "## ทำต่อจากตัวอย่าง 9.8\n",
    "from sklearn.ensemble import RandomForestClassifier\n",
    "from sklearn.metrics import classification_report,confusion_matrix\n",
    "from sklearn.metrics import accuracy_score\n",
    "from sklearn import metrics\n",
    "\n",
    "clf_random = RandomForestClassifier(n_estimators=20, max_depth=None,\n",
    "                                    min_samples_split=7, random_state=0)\n",
    "clf_random.fit(X_train[top5_features],y_train)\n",
    "\n",
    "y_pred=clf_random.predict(X_test[top5_features])\n",
    "\n",
    "target_names = ['No Churn', 'Churn']\n",
    "print(classification_report(y_test, y_pred, target_names=target_names)) \n",
    "\n",
    "cm = confusion_matrix(y_test, y_pred) \n",
    "cm_df = pd.DataFrame(cm,index=['No Churn','Churn'],columns=['No Churn',\n",
    "                                                            'Churn']) \n",
    "import matplotlib.pyplot as plt\n",
    "import seaborn as sns\n",
    "plt.figure(figsize=(8,6)) \n",
    "sns.heatmap(cm_df, annot=True,fmt='g') \n",
    "plt.title('Random Forest \\nAccuracy:{0:.3f}'.format(accuracy_score(y_test,\n",
    "                                                                   y_pred))) \n",
    "plt.ylabel('True Values') \n",
    "plt.xlabel('Predicted Values') \n",
    "plt.show() "
   ]
  },
  {
   "cell_type": "markdown",
   "metadata": {},
   "source": [
    "#### ตัวอย่างที่ 9.10"
   ]
  },
  {
   "cell_type": "code",
   "execution_count": 13,
   "metadata": {
    "scrolled": true
   },
   "outputs": [
    {
     "data": {
      "image/png": "[encoded data removed]",
      "text/plain": [
       "<Figure size 640x480 with 1 Axes>"
      ]
     },
     "metadata": {},
     "output_type": "display_data"
    }
   ],
   "source": [
    "# ตัวอย่าง 9.10 ROC Curve\n",
    "## ทำต่อจาก ตัวอย่าง 9.9\n",
    "from sklearn.metrics import roc_curve,auc\n",
    "fpr, tpr, thresholds = roc_curve(y_test, y_pred, pos_label=1)\n",
    "roc_auc = metrics.auc(fpr, tpr)\n",
    "thresholds\n",
    "\n",
    "plt.figure() \n",
    "plt.title('Receiver Operating Characteristic') \n",
    "plt.plot(fpr, tpr, label='%s AUC = %0.2f' % \\\n",
    "         ('Random Forest', roc_auc)) \n",
    "plt.plot([0, 1], [0, 1],'k--') \n",
    "plt.xlim([0.0, 1.0]) \n",
    "plt.ylim([0.0, 1.05]) \n",
    "plt.ylabel('Sensitivity(True Positive Rate)') \n",
    "plt.xlabel('1-Specificity(False Positive Rate)') \n",
    "plt.title('Receiver Operating Characteristic') \n",
    "plt.legend(loc=\"lower right\") \n",
    "plt.show() "
   ]
  },
  {
   "cell_type": "markdown",
   "metadata": {
    "tags": []
   },
   "source": [
    "#### กิจกรรมที่ 9.3"
   ]
  },
  {
   "cell_type": "code",
   "execution_count": null,
   "metadata": {},
   "outputs": [],
   "source": [
    "# กิจกรรม 9.3 Performance Metrics\n",
    "from sklearn.metrics import classification_report,confusion_matrix\n",
    "from sklearn.metrics import accuracy_score\n",
    "from sklearn import metrics\n",
    "clf_random_grid = RandomForestClassifier(n_estimators=100, \n",
    "                                         max_depth=7,\n",
    "                                         min_samples_split=10, \n",
    "                                         random_state=0) \n",
    "clf_random_grid.fit(X_train_scalar_combined, y_train)\n",
    "\n",
    "y_pred=clf_random_grid.predict(X_test_scalar_combined)\n",
    "target_names = ['No Churn', 'Churn']\n",
    "print(classification_report(y_test,y_pred,target_names=target_names))\n",
    "\n",
    "cm = confusion_matrix(y_test, y_pred) \n",
    "\n",
    "cm_df = pd.DataFrame(cm,\n",
    "                     index = ['No Churn','Churn'], \n",
    "                     columns = ['No Churn','Churn'])\n",
    "\n",
    "cm = confusion_matrix(y_test, y_pred)  \n",
    "cm_df = pd.DataFrame(cm,\n",
    "                     index = ['No Churn','Churn'],\n",
    "                     columns = ['No Churn','Churn']) \n",
    "plt.figure(figsize=(8,6)) \n",
    "sns.heatmap(cm_df, annot=True,fmt='g',cmap='Greys_r') \n",
    "plt.title('Random Forest \\nAccuracy:{0:.3f}'\\\n",
    "          .format(accuracy_score(y_test, y_pred))) \n",
    "plt.ylabel('True Values') \n",
    "plt.xlabel('Predicted Values') \n",
    "plt.show() \n",
    "\n",
    "from sklearn.metrics import roc_curve,auc\n",
    "models = [\n",
    "{\n",
    "    'label': 'Logistic Regression',\n",
    "    'model': clf_logistic,\n",
    "},\n",
    "{\n",
    "    'label': 'SVM',\n",
    "    'model': clf_svm,\n",
    "},\n",
    "{\n",
    "    'label': 'Decision Tree',\n",
    "    'model': clf_decision,\n",
    "},\n",
    "{\n",
    "    'label': 'Random Forest Grid Search',\n",
    "    'model': clf_random_grid,\n",
    "}\n",
    "]\n",
    "\n",
    "for m in models:\n",
    "    model = m['model']\n",
    "    model.fit(X_train_scalar_combined, y_train)\n",
    "    y_pred=model.predict(X_test_scalar_combined)\n",
    "    fpr, tpr, thresholds = roc_curve(y_test, y_pred, pos_label=1)\n",
    "    roc_auc = metrics.auc(fpr, tpr)\n",
    "    plt.plot(fpr, tpr, label='%s AUC = %0.2f' % (m['label'],roc_auc)) \n",
    "\n",
    "plt.plot([0, 1], [0, 1],'r--') \n",
    "plt.xlim([0.0, 1.0]) \n",
    "plt.ylim([0.0, 1.05]) \n",
    "plt.ylabel('Sensitivity(True Positive Rate)') \n",
    "plt.xlabel('1-Specificity(False Positive Rate)') \n",
    "plt.title('Receiver Operating Characteristic') \n",
    "plt.legend(loc=\"lower right\") \n",
    "plt.show() "
   ]
  },
  {
   "cell_type": "code",
   "execution_count": null,
   "metadata": {},
   "outputs": [],
   "source": []
  }
 ],
 "metadata": {
  "colab": {
   "name": "Exercise 35-37.ipynb",
   "provenance": []
  },
  "kernelspec": {
   "display_name": "Python 3 (ipykernel)",
   "language": "python",
   "name": "python3"
  },
  "language_info": {
   "codemirror_mode": {
    "name": "ipython",
    "version": 3
   },
   "file_extension": ".py",
   "mimetype": "text/x-python",
   "name": "python",
   "nbconvert_exporter": "python",
   "pygments_lexer": "ipython3",
   "version": "3.10.13"
  }
 },
 "nbformat": 4,
 "nbformat_minor": 4
}
